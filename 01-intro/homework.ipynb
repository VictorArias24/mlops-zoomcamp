{
 "cells": [
  {
   "cell_type": "markdown",
   "metadata": {},
   "source": [
    "## 1. import the neccesary libraries"
   ]
  },
  {
   "cell_type": "code",
   "execution_count": 53,
   "metadata": {},
   "outputs": [],
   "source": [
    "import pandas as pd\n",
    "from sklearn.feature_extraction import DictVectorizer\n",
    "\n",
    "from sklearn.linear_model import LinearRegression\n",
    "\n",
    "from sklearn.metrics import mean_squared_error"
   ]
  },
  {
   "cell_type": "markdown",
   "metadata": {},
   "source": [
    "## Question 1: Downloading the data"
   ]
  },
  {
   "cell_type": "code",
   "execution_count": 32,
   "metadata": {},
   "outputs": [
    {
     "name": "stdout",
     "output_type": "stream",
     "text": [
      "<class 'pandas.core.frame.DataFrame'>\n",
      "RangeIndex: 3066766 entries, 0 to 3066765\n",
      "Data columns (total 19 columns):\n",
      " #   Column                 Dtype         \n",
      "---  ------                 -----         \n",
      " 0   VendorID               int64         \n",
      " 1   tpep_pickup_datetime   datetime64[us]\n",
      " 2   tpep_dropoff_datetime  datetime64[us]\n",
      " 3   passenger_count        float64       \n",
      " 4   trip_distance          float64       \n",
      " 5   RatecodeID             float64       \n",
      " 6   store_and_fwd_flag     object        \n",
      " 7   PULocationID           int64         \n",
      " 8   DOLocationID           int64         \n",
      " 9   payment_type           int64         \n",
      " 10  fare_amount            float64       \n",
      " 11  extra                  float64       \n",
      " 12  mta_tax                float64       \n",
      " 13  tip_amount             float64       \n",
      " 14  tolls_amount           float64       \n",
      " 15  improvement_surcharge  float64       \n",
      " 16  total_amount           float64       \n",
      " 17  congestion_surcharge   float64       \n",
      " 18  airport_fee            float64       \n",
      "dtypes: datetime64[us](2), float64(12), int64(4), object(1)\n",
      "memory usage: 444.6+ MB\n"
     ]
    }
   ],
   "source": [
    "trips_jaunary = pd.read_parquet('yellow_tripdata_2023-01.parquet')\n",
    "trips_jaunary.info()"
   ]
  },
  {
   "cell_type": "markdown",
   "metadata": {},
   "source": [
    "## Question 2: Computing duration"
   ]
  },
  {
   "cell_type": "code",
   "execution_count": 33,
   "metadata": {},
   "outputs": [
    {
     "data": {
      "text/plain": [
       "42.59435124195458"
      ]
     },
     "execution_count": 33,
     "metadata": {},
     "output_type": "execute_result"
    }
   ],
   "source": [
    "trips_jaunary[\"duration\"] = trips_jaunary[\"tpep_dropoff_datetime\"] - trips_jaunary[\"tpep_pickup_datetime\"]\n",
    "trips_jaunary[\"duration\"] = trips_jaunary[\"duration\"].dt.total_seconds() / 60\n",
    "trips_jaunary[\"duration\"].std()"
   ]
  },
  {
   "cell_type": "markdown",
   "metadata": {},
   "source": [
    "## Question 3: Dropping outliers"
   ]
  },
  {
   "cell_type": "code",
   "execution_count": 37,
   "metadata": {},
   "outputs": [
    {
     "name": "stdout",
     "output_type": "stream",
     "text": [
      "% left atfer dropped the outliers=98.122\n"
     ]
    }
   ],
   "source": [
    "total_trips = int(trips_jaunary.shape[0])\n",
    "\n",
    "trips_january_without_outliers = trips_jaunary[(trips_jaunary[\"duration\"] >= 1) & (trips_jaunary[\"duration\"] <= 60)]\n",
    "\n",
    "print(f\"% left atfer dropped the outliers={trips_january_without_outliers.shape[0]/total_trips * 100:.3f}\")"
   ]
  },
  {
   "cell_type": "markdown",
   "metadata": {},
   "source": [
    "## Question 4: One-hot enconding"
   ]
  },
  {
   "cell_type": "code",
   "execution_count": 43,
   "metadata": {},
   "outputs": [],
   "source": [
    "trips_january_without_outliers.loc[:, 'PULocationID'] = trips_january_without_outliers['PULocationID'].astype(str)\n",
    "trips_january_without_outliers.loc[:, 'DOLocationID'] = trips_january_without_outliers['DOLocationID'].astype(str)\n",
    "\n",
    "train_dict = trips_january_without_outliers[['PULocationID', 'DOLocationID']].to_dict(orient='records')"
   ]
  },
  {
   "cell_type": "code",
   "execution_count": 47,
   "metadata": {},
   "outputs": [
    {
     "data": {
      "text/plain": [
       "(3009173, 515)"
      ]
     },
     "execution_count": 47,
     "metadata": {},
     "output_type": "execute_result"
    }
   ],
   "source": [
    "dv = DictVectorizer()\n",
    "x_train = dv.fit_transform(train_dict)\n",
    "\n",
    "x_train.shape"
   ]
  },
  {
   "cell_type": "markdown",
   "metadata": {},
   "source": [
    "## Question 5: Training a Model"
   ]
  },
  {
   "cell_type": "code",
   "execution_count": 54,
   "metadata": {},
   "outputs": [
    {
     "name": "stdout",
     "output_type": "stream",
     "text": [
      "RMS on train: 58.51120798407011\n"
     ]
    }
   ],
   "source": [
    "y_train = trips_january_without_outliers['duration'].values\n",
    "\n",
    "lr = LinearRegression()\n",
    "lr.fit(x_train, y_train)\n",
    "\n",
    "y_pred = lr.predict(x_train)"
   ]
  },
  {
   "cell_type": "code",
   "execution_count": 55,
   "metadata": {},
   "outputs": [
    {
     "name": "stdout",
     "output_type": "stream",
     "text": [
      "RMS on train: 7.6492619241381785\n"
     ]
    },
    {
     "name": "stderr",
     "output_type": "stream",
     "text": [
      "/Users/viarias/mlops-zoomcamp/venv/lib/python3.9/site-packages/sklearn/metrics/_regression.py:483: FutureWarning: 'squared' is deprecated in version 1.4 and will be removed in 1.6. To calculate the root mean squared error, use the function'root_mean_squared_error'.\n",
      "  warnings.warn(\n"
     ]
    }
   ],
   "source": [
    "print(\"RMS on train:\", mean_squared_error(y_train, y_pred, squared=False))"
   ]
  },
  {
   "cell_type": "markdown",
   "metadata": {},
   "source": [
    "## Questiion 6: Evaluating the model"
   ]
  },
  {
   "cell_type": "code",
   "execution_count": 61,
   "metadata": {},
   "outputs": [
    {
     "name": "stderr",
     "output_type": "stream",
     "text": [
      "/var/folders/gb/m5ldtjhj23x501z2nnbkfwd9xfhpdq/T/ipykernel_23302/139110911.py:3: FutureWarning: Setting an item of incompatible dtype is deprecated and will raise in a future error of pandas. Value '['142' '71' '71' ... '158' '79' '161']' has dtype incompatible with int32, please explicitly cast to a compatible dtype first.\n",
      "  february_trips.loc[:, 'PULocationID'] = february_trips['PULocationID'].astype(str)\n",
      "/var/folders/gb/m5ldtjhj23x501z2nnbkfwd9xfhpdq/T/ipykernel_23302/139110911.py:4: FutureWarning: Setting an item of incompatible dtype is deprecated and will raise in a future error of pandas. Value '['163' '71' '71' ... '143' '162' '140']' has dtype incompatible with int32, please explicitly cast to a compatible dtype first.\n",
      "  february_trips.loc[:, 'DOLocationID'] = february_trips['DOLocationID'].astype(str)\n"
     ]
    }
   ],
   "source": [
    "february_trips = pd.read_parquet('yellow_tripdata_2023-02.parquet')\n",
    "\n",
    "february_trips.loc[:, 'PULocationID'] = february_trips['PULocationID'].astype(str)\n",
    "february_trips.loc[:, 'DOLocationID'] = february_trips['DOLocationID'].astype(str)\n",
    "\n",
    "february_trips[\"duration\"] = february_trips[\"tpep_dropoff_datetime\"] - february_trips[\"tpep_pickup_datetime\"]\n",
    "february_trips[\"duration\"] = february_trips[\"duration\"].dt.total_seconds() / 60\n",
    "february_trips = february_trips[(february_trips[\"duration\"] >= 1) & (february_trips[\"duration\"] <= 60)]\n",
    "\n",
    "\n",
    "X_val = february_trips[['PULocationID', 'DOLocationID']].to_dict(orient='records')\n",
    "y_val = february_trips['duration'].values"
   ]
  },
  {
   "cell_type": "code",
   "execution_count": 62,
   "metadata": {},
   "outputs": [
    {
     "name": "stdout",
     "output_type": "stream",
     "text": [
      "RMS on validation: 7.811818380595618\n"
     ]
    },
    {
     "name": "stderr",
     "output_type": "stream",
     "text": [
      "/Users/viarias/mlops-zoomcamp/venv/lib/python3.9/site-packages/sklearn/metrics/_regression.py:483: FutureWarning: 'squared' is deprecated in version 1.4 and will be removed in 1.6. To calculate the root mean squared error, use the function'root_mean_squared_error'.\n",
      "  warnings.warn(\n"
     ]
    }
   ],
   "source": [
    "X_val = dv.transform(X_val)\n",
    "\n",
    "y_pred = lr.predict(X_val)\n",
    "\n",
    "print(\"RMS on validation:\", mean_squared_error(y_val, y_pred, squared=False))"
   ]
  }
 ],
 "metadata": {
  "kernelspec": {
   "display_name": "venv",
   "language": "python",
   "name": "python3"
  },
  "language_info": {
   "codemirror_mode": {
    "name": "ipython",
    "version": 3
   },
   "file_extension": ".py",
   "mimetype": "text/x-python",
   "name": "python",
   "nbconvert_exporter": "python",
   "pygments_lexer": "ipython3",
   "version": "3.9.18"
  }
 },
 "nbformat": 4,
 "nbformat_minor": 2
}
